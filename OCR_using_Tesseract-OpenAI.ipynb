{
  "nbformat": 4,
  "nbformat_minor": 0,
  "metadata": {
    "colab": {
      "provenance": []
    },
    "kernelspec": {
      "name": "python2",
      "display_name": "Python 2"
    }
  },
  "cells": [
    {
      "cell_type": "markdown",
      "source": [
        "![image](https://www.researchgate.net/publication/265087843/figure/fig4/AS:667640859213845@1536189393609/Tesseract-OCR-engine-architecture.png)"
      ],
      "metadata": {
        "id": "6zayg8LhqCnq"
      }
    },
    {
      "metadata": {
        "id": "uWwpI-24_Nob",
        "colab": {
          "base_uri": "https://localhost:8080/"
        },
        "outputId": "5ec26248-6da1-432c-f3d3-90a69feca650"
      },
      "cell_type": "code",
      "source": [
        "!sudo apt install tesseract-ocr"
      ],
      "execution_count": 1,
      "outputs": [
        {
          "output_type": "stream",
          "name": "stdout",
          "text": [
            "Reading package lists... Done\n",
            "Building dependency tree... Done\n",
            "Reading state information... Done\n",
            "tesseract-ocr is already the newest version (4.1.1-2.1build1).\n",
            "0 upgraded, 0 newly installed, 0 to remove and 45 not upgraded.\n"
          ]
        }
      ]
    },
    {
      "metadata": {
        "id": "ujL16dZ2_O-3",
        "colab": {
          "base_uri": "https://localhost:8080/"
        },
        "outputId": "a48756d1-00b9-4dbd-ffda-5af7a92a70fb"
      },
      "cell_type": "code",
      "source": [
        "!pip install pytesseract"
      ],
      "execution_count": 2,
      "outputs": [
        {
          "output_type": "stream",
          "name": "stdout",
          "text": [
            "Requirement already satisfied: pytesseract in /usr/local/lib/python3.10/dist-packages (0.3.10)\n",
            "Requirement already satisfied: packaging>=21.3 in /usr/local/lib/python3.10/dist-packages (from pytesseract) (24.0)\n",
            "Requirement already satisfied: Pillow>=8.0.0 in /usr/local/lib/python3.10/dist-packages (from pytesseract) (9.4.0)\n"
          ]
        }
      ]
    },
    {
      "cell_type": "code",
      "source": [
        "!pip install openai"
      ],
      "metadata": {
        "colab": {
          "base_uri": "https://localhost:8080/"
        },
        "id": "FkB4G-umPMD-",
        "outputId": "a8462f13-5e3a-4887-f817-1150c7b7092b"
      },
      "execution_count": 3,
      "outputs": [
        {
          "output_type": "stream",
          "name": "stdout",
          "text": [
            "Requirement already satisfied: openai in /usr/local/lib/python3.10/dist-packages (1.30.1)\n",
            "Requirement already satisfied: anyio<5,>=3.5.0 in /usr/local/lib/python3.10/dist-packages (from openai) (3.7.1)\n",
            "Requirement already satisfied: distro<2,>=1.7.0 in /usr/lib/python3/dist-packages (from openai) (1.7.0)\n",
            "Requirement already satisfied: httpx<1,>=0.23.0 in /usr/local/lib/python3.10/dist-packages (from openai) (0.27.0)\n",
            "Requirement already satisfied: pydantic<3,>=1.9.0 in /usr/local/lib/python3.10/dist-packages (from openai) (2.7.1)\n",
            "Requirement already satisfied: sniffio in /usr/local/lib/python3.10/dist-packages (from openai) (1.3.1)\n",
            "Requirement already satisfied: tqdm>4 in /usr/local/lib/python3.10/dist-packages (from openai) (4.66.4)\n",
            "Requirement already satisfied: typing-extensions<5,>=4.7 in /usr/local/lib/python3.10/dist-packages (from openai) (4.11.0)\n",
            "Requirement already satisfied: idna>=2.8 in /usr/local/lib/python3.10/dist-packages (from anyio<5,>=3.5.0->openai) (3.7)\n",
            "Requirement already satisfied: exceptiongroup in /usr/local/lib/python3.10/dist-packages (from anyio<5,>=3.5.0->openai) (1.2.1)\n",
            "Requirement already satisfied: certifi in /usr/local/lib/python3.10/dist-packages (from httpx<1,>=0.23.0->openai) (2024.2.2)\n",
            "Requirement already satisfied: httpcore==1.* in /usr/local/lib/python3.10/dist-packages (from httpx<1,>=0.23.0->openai) (1.0.5)\n",
            "Requirement already satisfied: h11<0.15,>=0.13 in /usr/local/lib/python3.10/dist-packages (from httpcore==1.*->httpx<1,>=0.23.0->openai) (0.14.0)\n",
            "Requirement already satisfied: annotated-types>=0.4.0 in /usr/local/lib/python3.10/dist-packages (from pydantic<3,>=1.9.0->openai) (0.6.0)\n",
            "Requirement already satisfied: pydantic-core==2.18.2 in /usr/local/lib/python3.10/dist-packages (from pydantic<3,>=1.9.0->openai) (2.18.2)\n"
          ]
        }
      ]
    },
    {
      "cell_type": "code",
      "source": [
        "!pip install --upgrade openai"
      ],
      "metadata": {
        "colab": {
          "base_uri": "https://localhost:8080/"
        },
        "id": "HJb5bvfzTH9H",
        "outputId": "8b1843d8-d564-4351-e0bb-d6380a6c272a"
      },
      "execution_count": 4,
      "outputs": [
        {
          "output_type": "stream",
          "name": "stdout",
          "text": [
            "Requirement already satisfied: openai in /usr/local/lib/python3.10/dist-packages (1.30.1)\n",
            "Requirement already satisfied: anyio<5,>=3.5.0 in /usr/local/lib/python3.10/dist-packages (from openai) (3.7.1)\n",
            "Requirement already satisfied: distro<2,>=1.7.0 in /usr/lib/python3/dist-packages (from openai) (1.7.0)\n",
            "Requirement already satisfied: httpx<1,>=0.23.0 in /usr/local/lib/python3.10/dist-packages (from openai) (0.27.0)\n",
            "Requirement already satisfied: pydantic<3,>=1.9.0 in /usr/local/lib/python3.10/dist-packages (from openai) (2.7.1)\n",
            "Requirement already satisfied: sniffio in /usr/local/lib/python3.10/dist-packages (from openai) (1.3.1)\n",
            "Requirement already satisfied: tqdm>4 in /usr/local/lib/python3.10/dist-packages (from openai) (4.66.4)\n",
            "Requirement already satisfied: typing-extensions<5,>=4.7 in /usr/local/lib/python3.10/dist-packages (from openai) (4.11.0)\n",
            "Requirement already satisfied: idna>=2.8 in /usr/local/lib/python3.10/dist-packages (from anyio<5,>=3.5.0->openai) (3.7)\n",
            "Requirement already satisfied: exceptiongroup in /usr/local/lib/python3.10/dist-packages (from anyio<5,>=3.5.0->openai) (1.2.1)\n",
            "Requirement already satisfied: certifi in /usr/local/lib/python3.10/dist-packages (from httpx<1,>=0.23.0->openai) (2024.2.2)\n",
            "Requirement already satisfied: httpcore==1.* in /usr/local/lib/python3.10/dist-packages (from httpx<1,>=0.23.0->openai) (1.0.5)\n",
            "Requirement already satisfied: h11<0.15,>=0.13 in /usr/local/lib/python3.10/dist-packages (from httpcore==1.*->httpx<1,>=0.23.0->openai) (0.14.0)\n",
            "Requirement already satisfied: annotated-types>=0.4.0 in /usr/local/lib/python3.10/dist-packages (from pydantic<3,>=1.9.0->openai) (0.6.0)\n",
            "Requirement already satisfied: pydantic-core==2.18.2 in /usr/local/lib/python3.10/dist-packages (from pydantic<3,>=1.9.0->openai) (2.18.2)\n"
          ]
        }
      ]
    },
    {
      "metadata": {
        "id": "QKJh7JjTAqzO"
      },
      "cell_type": "code",
      "source": [
        "import pytesseract\n",
        "import shutil\n",
        "import os\n",
        "import random\n",
        "try:\n",
        "    from PIL import Image\n",
        "except ImportError:\n",
        "    import Image\n",
        "from PIL import Image\n",
        "import re"
      ],
      "execution_count": 5,
      "outputs": []
    },
    {
      "metadata": {
        "id": "HaM3cMUDA_Ma"
      },
      "cell_type": "code",
      "source": [
        "extractedInformation = pytesseract.image_to_string(Image.open('bio.jpeg'))"
      ],
      "execution_count": 6,
      "outputs": []
    },
    {
      "metadata": {
        "id": "Key-3vILBNUd",
        "colab": {
          "base_uri": "https://localhost:8080/"
        },
        "outputId": "f6c6e1b0-1133-41e9-8186-1a6467c98e2a"
      },
      "cell_type": "code",
      "source": [
        "print(extractedInformation)"
      ],
      "execution_count": 7,
      "outputs": [
        {
          "output_type": "stream",
          "name": "stdout",
          "text": [
            " \n",
            "\n",
            "José Maia\n",
            "\n",
            "Cofundador & Head de\n",
            "Ciéncia de Dados\n",
            "\n",
            "Mestre em Inteligéncia\n",
            "Computacional pela UFMG. Foi\n",
            "Quant Research no fundo de\n",
            "investimentos Genoa Capital e\n",
            "Tech Lead de Ciéncia de Dados\n",
            "no Santander e Ita onde atuou\n",
            "em projetos em parceria com\n",
            "Lab. de IA da Universidade de\n",
            "Stanford.\n",
            "\n",
            "FR) esemaia-neto\n",
            "\f\n"
          ]
        }
      ]
    },
    {
      "metadata": {
        "id": "aw9nJoeqBWZP"
      },
      "cell_type": "code",
      "source": [
        "extracteinimage = pytesseract.image_to_string(Image.open('/content/teste.webp'))"
      ],
      "execution_count": 8,
      "outputs": []
    },
    {
      "cell_type": "code",
      "source": [
        "print(extracteinimage)"
      ],
      "metadata": {
        "colab": {
          "base_uri": "https://localhost:8080/"
        },
        "id": "w9GK9IPfFLcH",
        "outputId": "ae6cd274-f42e-4580-e35f-5d9c0a161ecc"
      },
      "execution_count": 9,
      "outputs": [
        {
          "output_type": "stream",
          "name": "stdout",
          "text": [
            "REPUBLICA FEDERATIVA DO BRASIL\n",
            "MINISTERIO DA JUSTICA\n",
            "REGISTRO DE IDENTIDADE CIVIL\n",
            "ESTADO DO BRASIL\n",
            "\n",
            " \n",
            "\n",
            "NOME J NAME\n",
            "\n",
            "FERNANDA DE CARVALHO ~\n",
            "\n",
            "DA SILVA Nes\n",
            "SEXO / SEX hy\n",
            "FEM i\n",
            "\n",
            "NACIONALIDADE (NATIONALITY. 2\n",
            "\n",
            "BRASILEIRA\n",
            "\n",
            "4\n",
            "\n",
            ",\n",
            "DATA DE NASC / DATE OF BIRTH }\n",
            "12/07/1960 Zs\n",
            "\n",
            " \n",
            "\n",
            "NUMERO RIC / iD N* DATA DE VALIDADE / EXPIRY.\n",
            "0000000005-9 20/08/2030\n",
            "\n",
            " \n",
            "\n",
            "0000000005-9\n",
            "t Farrand C Silva\n",
            "mm\n",
            "\n",
            " \n",
            "\n",
            "Fernanda C Silva\n",
            "\n",
            "   \n",
            "\f\n"
          ]
        }
      ]
    },
    {
      "cell_type": "code",
      "source": [
        "from openai import OpenAI\n",
        "os.environ[\"OPENAI_API_KEY\"] =\"ChaveAPI\"\n",
        "client = OpenAI()\n",
        "\n",
        "\n",
        "completion = client.chat.completions.create(\n",
        "  model=\"gpt-3.5-turbo\",\n",
        "  messages=[\n",
        "    {\"role\": \"system\", \"content\": \"Voce agora é um estruturador de texto, separando o nome, SEXO / SEX, NACIONALIDADE / NATIONALITY:, DATA DE NASCIMENTO / DATE OF BIRTH:, NÚMERO RIC / ID NUMBER e DATA DE VALIDADE / EXPIRY DATE\"},\n",
        "    {\"role\": \"user\", \"content\": f\"chat agora voce sera meu estruturador de texto, estruture esse texto {extracteinimage}\"}\n",
        "  ]\n",
        ")\n",
        "\n",
        "print(completion.choices[0].message.content)"
      ],
      "metadata": {
        "colab": {
          "base_uri": "https://localhost:8080/"
        },
        "id": "0vqZppHrR-4Q",
        "outputId": "443a5ec5-91f0-4d80-97d6-c2bd2bcdd749"
      },
      "execution_count": 18,
      "outputs": [
        {
          "output_type": "stream",
          "name": "stdout",
          "text": [
            "NOME / NAME: FERNANDA DE CARVALHO DA SILVA\n",
            "\n",
            "SEXO / SEX: FEMININO\n",
            "\n",
            "NACIONALIDADE / NATIONALITY: BRASILEIRA\n",
            "\n",
            "DATA DE NASCIMENTO / DATE OF BIRTH: 12/07/1960\n",
            "\n",
            "NÚMERO RIC / ID NUMBER: 0000000005-9\n",
            "\n",
            "DATA DE VALIDADE / EXPIRY DATE: 20/08/2030\n"
          ]
        }
      ]
    }
  ]
}